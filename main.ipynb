{
 "cells": [
  {
   "cell_type": "code",
   "execution_count": 3,
   "metadata": {},
   "outputs": [],
   "source": [
    "from sleeper_wrapper.league import League\n",
    "from sleeper_wrapper.base_api import BaseApi\n",
    "from sleeper_wrapper.user import User\n",
    "from sleeper_wrapper.drafts import Drafts\n",
    "from sleeper_wrapper.stats import Stats\n",
    "from sleeper_wrapper.players import Players\n",
    "import pandas as pd\n",
    "import json\n",
    "import pprint\n",
    "import matplotlib.pyplot as plt"
   ]
  },
  {
   "cell_type": "code",
   "execution_count": 14,
   "metadata": {},
   "outputs": [],
   "source": [
    "league_21 = League(719361504427728896)\n",
    "league_22 = League(784689960694439936)\n",
    "league_23 = League(959512549940088832)\n",
    "\n",
    "leagues = [league_21, league_22, league_23]"
   ]
  },
  {
   "cell_type": "code",
   "execution_count": 16,
   "metadata": {},
   "outputs": [],
   "source": [
    "users_21 = league_21.get_users()\n",
    "users_22 = league_22.get_users()\n",
    "users_23 = league_23.get_users()\n",
    "\n",
    "users = [users_21, users_22, users_23]"
   ]
  },
  {
   "cell_type": "code",
   "execution_count": 22,
   "metadata": {},
   "outputs": [],
   "source": [
    "display_names_to_user_ids = {}\n",
    "for object in users:\n",
    "    for user in object:\n",
    "        display_names_to_user_ids[user['display_name']] = user['user_id']\n"
   ]
  },
  {
   "cell_type": "code",
   "execution_count": 24,
   "metadata": {},
   "outputs": [],
   "source": [
    "del display_names_to_user_ids['Nosy']"
   ]
  },
  {
   "cell_type": "code",
   "execution_count": 31,
   "metadata": {},
   "outputs": [
    {
     "name": "stdout",
     "output_type": "stream",
     "text": [
      "{3: [('Agent P', 71.3), ('Show me your TD’s', 126.32)],\n",
      " 6: [('The Montreal Units', 32.1), ('The underdogs', 125.62)],\n",
      " 4: [('The Evil Princes', 86.44), ('Cony island king', 93.12)],\n",
      " 1: [('Il Mafioso', 69.0), ('Rance Attrapeur 💀', 101.39999999999999)],\n",
      " 5: [('Merry Christmas to all', 75.46000000000001), ('', 82.60000000000001)],\n",
      " 2: [('Sun Tzu☯️', 144.2), ('Lasso’s Diamond Dawgs', 83.76)]}\n"
     ]
    }
   ],
   "source": [
    "rosters_21 = league_21.get_rosters()\n",
    "rosters_22 = league_22.get_rosters()\n",
    "rosters_23 = league_23.get_rosters()\n"
   ]
  },
  {
   "cell_type": "code",
   "execution_count": null,
   "metadata": {},
   "outputs": [],
   "source": [
    "matchups_all_years = []\n",
    "for league_num in range(21, 24):\n",
    "    league = globals()[f'league_{league_num}']\n",
    "\n",
    "    league_year_matchups = []\n",
    "    for i in range(15):\n",
    "        matchups = league.get_matchups(i)\n",
    "        league_year_matchups += matchups"
   ]
  },
  {
   "cell_type": "code",
   "execution_count": null,
   "metadata": {},
   "outputs": [],
   "source": [
    "scoreboard = league_21.get_scoreboards(rosters_21, matchups_21, users_21, \"pts_ppr\", 1)"
   ]
  },
  {
   "cell_type": "code",
   "execution_count": null,
   "metadata": {},
   "outputs": [],
   "source": [
    "team_to_display_name = {}\n",
    "\n",
    "for _, matches in scoreboard.items():\n",
    "    for team, score in matches:\n",
    "        if team:  # Only add non-empty team names\n",
    "            team_to_display_name[team] = team"
   ]
  }
 ],
 "metadata": {
  "kernelspec": {
   "display_name": "env",
   "language": "python",
   "name": "python3"
  },
  "language_info": {
   "codemirror_mode": {
    "name": "ipython",
    "version": 3
   },
   "file_extension": ".py",
   "mimetype": "text/x-python",
   "name": "python",
   "nbconvert_exporter": "python",
   "pygments_lexer": "ipython3",
   "version": "3.11.7"
  }
 },
 "nbformat": 4,
 "nbformat_minor": 2
}
